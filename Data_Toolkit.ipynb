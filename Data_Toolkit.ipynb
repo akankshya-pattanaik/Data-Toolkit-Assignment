{
  "nbformat": 4,
  "nbformat_minor": 0,
  "metadata": {
    "colab": {
      "provenance": []
    },
    "kernelspec": {
      "name": "python3",
      "display_name": "Python 3"
    },
    "language_info": {
      "name": "python"
    }
  },
  "cells": [
    {
      "cell_type": "markdown",
      "source": [
        "Q1.What is NumPy, and why is it widely used in Python?\n",
        "\n",
        "Ans:\n",
        "NumPy is a powerful open-source Python library used for scientific computing. It provides support for handling large, multi-dimensional arrays and matrices, along with a wide collection of high-level mathematical functions to operate on these arrays efficiently.\n",
        "\n",
        "Features of NumPy:\n",
        "\n",
        "N-dimensional array object (ndarray):\n",
        "- Faster and more memory-efficient than Python lists.\n",
        "- Supports broadcasting and vectorized operations.\n",
        "\n",
        "Mathematical functions:\n",
        "- Provides functions for linear algebra, statistics, Fourier transforms, etc.\n",
        "\n",
        "Integration with other libraries:\n",
        "- Forms the foundation for many Python libraries like Pandas, SciPy, scikit-learn, TensorFlow, PyTorch, and OpenCV.\n",
        "\n",
        "Vectorization:\n",
        "- Eliminates the need for explicit loops, leading to faster execution.\n",
        "\n",
        "Broadcasting\n",
        "- Allows arithmetic operations between arrays of different shapes.\n",
        "\n",
        "Why NumPy is Widely Used:\n",
        "- Performance: NumPy operations are implemented in C and optimized for speed.\n",
        "- Ease of use: Provides a simple syntax for complex mathematical operations.\n",
        "- Foundation of data science stack: Almost all data analysis, machine learning, and deep learning libraries rely on NumPy arrays.\n",
        "- Interoperability: Easily integrates with C, C++, and Fortran code, enabling high-performance computing."
      ],
      "metadata": {
        "id": "jROps4_ncOml"
      }
    },
    {
      "cell_type": "markdown",
      "source": [
        "Q2. How does broadcasting work in NumPy?\n",
        "\n",
        "Ans:\n",
        "Broadcasting:\n",
        "Broadcasting in NumPy is a way of performing arithmetic operations on arrays of different shapes without explicitly copying data.\n",
        "It automatically “stretches” smaller arrays across larger ones so operations can be applied element-wise.\n",
        "\n",
        "Rules of Broadcasting:\n",
        "- When operating on two arrays, NumPy compares their shapes element by element:\n",
        "- If dimensions differ, the smaller array is padded with ones (1) on the left side.\n",
        "-Two dimensions are compatible if: They are equal, or One of them is 1.\n",
        "- If the shapes are not compatible, NumPy raises a ValueError.\n",
        "\n",
        "Example 1: Adding a scalar to an array\n",
        "\n",
        "import numpy as np\n",
        "\n",
        "arr = np.array([1, 2, 3])\n",
        "\n",
        "result = arr + 5   # Scalar is broadcasted\n",
        "\n",
        "print(result)\n",
        "\n",
        "\n",
        "Output: [6 7 8]\n",
        "\n",
        "\n",
        "Here, scalar 5 is treated as [5, 5, 5] internally."
      ],
      "metadata": {
        "id": "-BxzzcVId7dp"
      }
    },
    {
      "cell_type": "markdown",
      "source": [
        "Q3.What is a Pandas DataFrame?\n",
        "\n",
        "Ans:\n",
        "- A Pandas DataFrame is one of the core data structures in the Pandas library (Python’s popular data analysis tool).\n",
        "- Think of it as a 2D labeled data table, similar to an Excel spreadsheet or a SQL table, where data is stored in rows and columns.\n",
        "\n",
        "Key Features of a DataFrame:\n",
        "- Two-dimensional → data arranged in rows (index) and columns (labels).\n",
        "- Labeled axes → both rows and columns have labels for easy access.\n",
        "- Heterogeneous data → each column can hold different data types (int, float, string, etc.).\n",
        "- Size-mutable → you can insert or delete rows and columns.\n",
        "- Powerful operations → filtering, grouping, merging, reshaping, statistical analysis.\n",
        "\n",
        "Example: Creating a DataFrame\n",
        "\n",
        "import pandas as pd\n",
        "\n",
        "data = {\n",
        "\n",
        "    'Name': ['Alice', 'Bob', 'Charlie'],\n",
        "    'Age': [25, 30, 35],\n",
        "    'City': ['New York', 'London', 'Paris']\n",
        "} # Create a DataFrame from dictionary\n",
        "\n",
        "df = pd.DataFrame(data)\n",
        "\n",
        "print(df)"
      ],
      "metadata": {
        "id": "3z2gK1whegwC"
      }
    },
    {
      "cell_type": "markdown",
      "source": [
        "Q4.Explain the use of the groupby() method in Pandas/\n",
        "\n",
        "Ans:\n",
        "groupby():\n",
        "- groupby() is used to split data into groups based on one or more columns, then apply an aggregation, transformation, or filtering operation on each group.\n",
        "- It follows the Split → Apply → Combine strategy:\n",
        "- Split: Divide the DataFrame into groups based on some criteria.\n",
        "- Apply: Apply a function (e.g., sum, mean, count, custom function) to each group.\n",
        "- Combine: Merge the results back into a new DataFrame.\n",
        "\n",
        "Example 1: Grouping by one column\n",
        "\n",
        "import pandas as pd\n",
        "\n",
        "data = {\n",
        "\n",
        "    'Department': ['IT', 'HR', 'IT', 'Finance', 'HR', 'Finance'],\n",
        "    'Employee': ['Alice', 'Bob', 'Charlie', 'David', 'Eve', 'Frank'],\n",
        "    'Salary': [60000, 50000, 70000, 80000, 55000, 75000]\n",
        "}\n",
        "\n",
        "df = pd.DataFrame(data)\n",
        "\n",
        "avg_salary = df.groupby('Department')['Salary'].mean() # Group by Department and calculate average salary\n",
        "\n",
        "print(avg_salary)"
      ],
      "metadata": {
        "id": "Fs-wiCPsfKmQ"
      }
    },
    {
      "cell_type": "markdown",
      "source": [
        "Q5.Why is Seaborn preferred for statistical visualizations?\n",
        "\n",
        "Ans:\n",
        "\n",
        "Seaborn:\n",
        "Seaborn is a Python data visualization library built on top of Matplotlib.\n",
        "It is designed specifically for statistical data visualization and works very well with Pandas DataFrames.\n",
        "\n",
        "Why Seaborn is Preferred for Statistical Visualizations:\n",
        "1. High-level Interface:\n",
        "- Seaborn provides simple functions for complex plots (sns.barplot(), sns.boxplot(), sns.heatmap(), etc.).\n",
        "- Less code is needed compared to Matplotlib.\n",
        "2. Built-in Statistical Aggregation:\n",
        "- Many Seaborn plots automatically compute statistics.\n",
        "- Example: sns.barplot() automatically shows the mean value with error bars (confidence intervals).\n",
        "3. Beautiful Default Styles:\n",
        "- Comes with attractive themes and color palettes, making visualizations more professional without extra formatting.\n",
        "4. Works Directly with Pandas:\n",
        "- Accepts DataFrames and column names directly.\n",
        "- No need to manually extract arrays (which you usually have to do in Matplotlib).\n",
        "5. Specialized for Statistical Plots:\n",
        "Seaborn provides ready-made functions for common statistical tasks:\n",
        "- Distribution plots → sns.histplot(), sns.kdeplot()\n",
        "- Correlation plots → sns.heatmap()\n",
        "- Categorical comparisons → sns.boxplot(), sns.violinplot(), sns.stripplot()\n",
        "- Regression analysis → sns.regplot(), sns.lmplot()\n",
        "6. Integration with NumPy, Pandas, SciPy, and Statsmodels\n",
        "- Makes it very handy for data science and machine learning workflows.\n",
        "\n",
        "Example: Comparing Matplotlib vs Seaborn\n",
        "\n",
        "- Using Matplotlib\n",
        "\n",
        "import matplotlib.pyplot as plt\n",
        "\n",
        "import pandas as pd\n",
        "\n",
        "df = pd.DataFrame({'Category': ['A','A','B','B'], 'Value': [10, 12, 8, 9]})\n",
        "\n",
        "plt.bar(df['Category'], df['Value'])\n",
        "\n",
        "plt.show()\n",
        "\n",
        "- Using Seaborn\n",
        "import seaborn as sns\n",
        "\n",
        "sns.barplot(x='Category', y='Value', data=df)\n",
        "\n",
        "Seaborn automatically calculates the mean for each category and adds error bars — something Matplotlib won’t do without extra steps.\n"
      ],
      "metadata": {
        "id": "ROxbTBnMfpWm"
      }
    },
    {
      "cell_type": "markdown",
      "source": [
        "Q6.What are the differences between NumPy arrays and Python lists?\n",
        "\n",
        "Ans:\n",
        "#Differences Between NumPy Arrays and Python Lists:\n",
        "1. Data Type\n",
        "- Python List: Can store different data types (heterogeneous).\n",
        "- NumPy Array: Stores only one data type (homogeneous).\n",
        "2. Memory Efficiency:\n",
        "- Python List: Consumes more memory as it stores references to objects.\n",
        "- NumPy Array: More memory-efficient as data is stored in contiguous memory blocks.\n",
        "3.Performance\n",
        "- Python List: Slower for numerical computations since operations are done element by element using loops.\n",
        "- NumPy Array: Much faster due to vectorization and optimized C-based implementations.\n",
        "4. Mathematical Operations\n",
        "- Python List: No direct support for element-wise arithmetic; requires loops or list comprehensions.\n",
        "- NumPy Array: Supports direct element-wise operations, broadcasting, linear algebra, and advanced math functions.\n",
        "5. Size Flexibility\n",
        "- Python List: Dynamic in size (can grow or shrink easily).\n",
        "- NumPy Array: Fixed size; resizing requires creating a new array.\n",
        "6. Indexing & Slicing\n",
        "- Python List: Supports basic indexing and slicing.\n",
        "- NumPy Array: Supports advanced indexing (multi-dimensional, boolean masking, fancy indexing).\n",
        "7. Integration\n",
        "- Python List: General-purpose, not designed for scientific computing.\n",
        "- NumPy Array: Core foundation of scientific computing; integrates with Pandas, SciPy, scikit-learn, TensorFlow, etc."
      ],
      "metadata": {
        "id": "1CC3VtQIgm3E"
      }
    },
    {
      "cell_type": "markdown",
      "source": [
        "Q7.What is a heatmap, and when should it be used?\n",
        "\n",
        "Ans:\n",
        "Heatmap:\n",
        "- A heatmap is a data visualization technique that uses color coding to represent values in a matrix (2D data).\n",
        "- Each cell in the heatmap is colored based on its value.\n",
        "- Darker or brighter colors indicate higher or lower intensity (depending on the chosen color palette).\n",
        "- In Python, heatmaps are often created using Seaborn (sns.heatmap()) or Matplotlib.\n",
        "\n",
        "When Should a Heatmap Be Used:\n",
        "1. Correlation Analysis: To show relationships between variables.\n",
        "- Example: Correlation heatmap in data science to check which features are related.\n",
        "2. Matrix Representation: To visualize 2D matrices (confusion matrices, distance matrices, etc.).\n",
        "3. Pattern Detection: To quickly identify highs, lows, clusters, or outliers in data.\n",
        "4. Comparisons Across Categories: Useful for categorical vs numerical comparisons (e.g., average sales across regions and months).\n",
        "5. Resource Monitoring: Used in fields like network traffic monitoring or gene expression analysis in biology.\n",
        "\n",
        "Example: Correlation Heatmap in Python\n",
        "\n",
        "import seaborn as sns\n",
        "\n",
        "import pandas as pd\n",
        "\n",
        "import matplotlib.pyplot as plt\n",
        "\n",
        "data = {\n",
        "    'Math': [85, 90, 78, 92, 88],\n",
        "    'Science': [80, 85, 82, 95, 90],\n",
        "    'English': [78, 75, 85, 80, 82]\n",
        "}# Sample data\n",
        "\n",
        "df = pd.DataFrame(data)\n",
        "\n",
        "sns.heatmap(df.corr(), annot=True, cmap=\"coolwarm\")# Correlation heatmap\n",
        "\n",
        "plt.show()"
      ],
      "metadata": {
        "id": "z1Ywmt9qhNMz"
      }
    },
    {
      "cell_type": "markdown",
      "source": [
        "Q8.What does the term “vectorized operation” mean in NumPy?\n",
        "\n",
        "Ans:\n",
        "Vectorized Operation in NumPy:\n",
        "- In NumPy, a vectorized operation means performing mathematical or logical operations on entire arrays (vectors, matrices, etc.) at once, without using explicit Python loops.\n",
        "- Instead of processing elements one by one, NumPy applies the operation in a single step at the C level, making it much faster and more efficient.\n",
        "- No explicit loops → NumPy handles the looping internally.\n",
        "- Element-wise operations → The operation is applied to each element automatically.\n",
        "- Faster execution → Because NumPy uses optimized C/Fortran code.\n",
        "- Cleaner code → Shorter and more readable compared to manual loops.\n",
        "\n",
        "Example: Squaring Numbers\n",
        "\n",
        "#Using Python loop\n",
        "\n",
        "nums = [1, 2, 3, 4, 5]\n",
        "\n",
        "squared = [x**2 for x in nums]  # Loop required\n",
        "\n",
        "print(squared)\n",
        "\n",
        "Output:\n",
        "\n",
        "[1, 4, 9, 16, 25]\n",
        "\n",
        "#Using NumPy (Vectorized)\n",
        "import numpy as np\n",
        "\n",
        "arr = np.array([1, 2, 3, 4, 5])\n",
        "\n",
        "squared = arr ** 2   # Vectorized operation\n",
        "\n",
        "print(squared)\n",
        "\n",
        "Output:\n",
        "\n",
        "[ 1  4  9 16 25]\n",
        "\n",
        "Vectorization Important:\n",
        "- Performance: Runs much faster than Python loops.\n",
        "- Readability: Code is shorter and clearer.\n",
        "- Scalability: Works efficiently with large datasets."
      ],
      "metadata": {
        "id": "HCZEVr014fDo"
      }
    },
    {
      "cell_type": "markdown",
      "source": [
        "Q9. How does Matplotlib differ from Plotly?\n",
        "\n",
        "Ans:\n",
        "Matplotlib vs Plotly\n",
        "1. Type of Library\n",
        "\n",
        "Matplotlib:\n",
        "- A static 2D plotting library (can do some 3D).\n",
        "- Best for scientific and publication-quality plots.\n",
        "\n",
        "Plotly:\n",
        "- An interactive plotting library.\n",
        "- Great for dashboards, web apps, and data exploration.\n",
        "\n",
        "2. Interactivity\n",
        "\n",
        "Matplotlib:\n",
        "- Plots are static images by default (PNG, PDF).\n",
        "- Limited interactivity (zoom/pan in Jupyter notebooks).\n",
        "\n",
        "Plotly:\n",
        "- Fully interactive (zoom, hover tooltips, click events).\n",
        "- Ideal for exploratory data analysis.\n",
        "\n",
        "3. Ease of Use\n",
        "\n",
        "Matplotlib:\n",
        "- More low-level, requires more code for customization.\n",
        "- Flexible but sometimes verbose.\n",
        "\n",
        "Plotly:\n",
        "- High-level API, simpler syntax for complex interactive plots.\n",
        "- Quicker for dashboards.\n",
        "\n",
        "4. Output\n",
        "\n",
        "Matplotlib:\n",
        "- Outputs static images (good for research papers, reports).\n",
        "\n",
        "Plotly:\n",
        "- Outputs interactive HTML charts (good for sharing online, dashboards).\n",
        "\n",
        "5. Integration\n",
        "\n",
        "Matplotlib:\n",
        "- Works very well with NumPy, Pandas, and Seaborn.\n",
        "\n",
        "Plotly:\n",
        "- Works well with Dash (web apps) and Pandas.\n",
        "\n",
        "6. Customization\n",
        "\n",
        "Matplotlib:\n",
        "- Extremely customizable (control over every pixel).\n",
        "\n",
        "Plotly:\n",
        "- Customizable, but geared more toward interactivity than deep fine-tuning."
      ],
      "metadata": {
        "id": "I_hqVNvt5NVu"
      }
    },
    {
      "cell_type": "markdown",
      "source": [
        "Q10.What is the significance of hierarchical indexing in Pandas?\n",
        "\n",
        "Ans:\n",
        "Hierarchical Indexing in Pandas:\n",
        "- Hierarchical indexing (MultiIndexing) in Pandas means having multiple index levels (rows or columns) instead of just one.\n",
        "- It allows you to work with higher-dimensional data in a 2D DataFrame.\n",
        "- A MultiIndex can be thought of as an index with multiple keys.\n",
        "\n",
        "Significance of Hierarchical Indexing:\n",
        "\n",
        "Representation of Higher-Dimensional Data\n",
        "- Lets you represent multi-dimensional data (like 3D or 4D) in two dimensions.\n",
        "- Example: Storing sales data by Region → Country → Year.\n",
        "\n",
        "Better Data Organization\n",
        "- Data can be grouped into nested categories.\n",
        "- Helps keep related data structured and easier to analyze.\n",
        "\n",
        "Simplifies Grouped Operations\n",
        "- Often used after a groupby() operation, which naturally produces hierarchical indices.\n",
        "- Makes aggregated results easier to manage.\n",
        "\n",
        "Advanced Indexing & Slicing\n",
        "- You can select data at multiple levels.\n",
        "- Example: Select all rows for a given country within a region.\n",
        "\n",
        "Efficient Reshaping\n",
        "- Works well with methods like stack(), unstack(), and pivot().\n",
        "- Makes it easy to reshape data between “long” and “wide” formats."
      ],
      "metadata": {
        "id": "G5o9eCZB54hb"
      }
    },
    {
      "cell_type": "markdown",
      "source": [
        "Q11.What is the role of Seaborn’s pairplot() function?\n",
        "\n",
        "Ans:\n",
        "pairplot() in Seaborn:\n",
        "- The pairplot() function in Seaborn is used to visualize pairwise relationships between multiple variables in a dataset.\n",
        "- It creates a grid of scatter plots for each pair of numerical variables.\n",
        "- Along the diagonal, it shows the distribution (histogram or KDE) of each variable.\n",
        "- It’s like getting a quick statistical overview of all variable relationships in one plot.\n",
        "\n",
        "Role and Uses of pairplot():\n",
        "1. Exploratory Data Analysis (EDA): Quickly reveals relationships, trends, and clusters between multiple variables.\n",
        "\n",
        "2. Correlation Check: Helps detect whether two variables are positively, negatively, or not correlated.\n",
        "\n",
        "3. Distribution Visualization: Shows how individual variables are distributed.\n",
        "\n",
        "4. Class/Category Separation: If given a categorical variable (hue), it shows how groups differ across features.\n",
        "\n",
        "5. Outlier Detection: Outliers can be spotted visually in the scatter plots.\n",
        "\n",
        "Example: Using pairplot()\n",
        "\n",
        "import seaborn as sns\n",
        "\n",
        "import matplotlib.pyplot as plt\n",
        "\n",
        "df = sns.load_dataset(\"iris\") # Load example dataset\n",
        "\n",
        "sns.pairplot(df, hue=\"species\") # Pairplot of numerical features, colored by species\n",
        "\n",
        "plt.show()\n",
        "\n",
        "- Scatter plots between features (sepal_length, sepal_width, petal_length, petal_width).\n",
        "- KDE/Histograms along the diagonal.\n",
        "- Different colors for each species."
      ],
      "metadata": {
        "id": "D7CJ4E8yJTPz"
      }
    },
    {
      "cell_type": "markdown",
      "source": [
        "Q12.What is the purpose of the describe() function in Pandas?\n",
        "\n",
        "Ans:\n",
        "\n",
        "Purpose of describe() in Pandas:\n",
        "- The describe() function in Pandas is used to generate summary statistics of a DataFrame (or Series).\n",
        "- It provides a quick statistical overview of the dataset, which is very useful in Exploratory Data Analysis (EDA).\n",
        "\n",
        "Key Points:\n",
        "\n",
        "Statistical Summary:\n",
        "- By default, it gives count, mean, std (standard deviation), min, 25%, 50% (median), 75%, and max for numerical columns.\n",
        "\n",
        "Works for Different Data Types\n",
        "- For numeric data → gives statistical measures.\n",
        "- For object/categorical data (when include='object' or include='all') → gives count, unique, top (most frequent), and freq (frequency of top value).\n",
        "\n",
        "Customizable\n",
        "- You can control what data types to include with include and exclude parameters.\n",
        "- Can also use percentiles parameter to customize percentile values.\n",
        "\n",
        "Quick EDA Tool\n",
        "- Helps detect missing values, skewed distributions, outliers, and data ranges."
      ],
      "metadata": {
        "id": "RMMaQjNDcYGy"
      }
    },
    {
      "cell_type": "markdown",
      "source": [
        "Q13.Why is handling missing data important in Pandas?\n",
        "\n",
        "Ans:\n",
        "Handling Missing Data is Important in Pandas:\n",
        "- Missing data (NaN or None values) is very common in real-world datasets.\n",
        "- If not handled properly, it can negatively affect data analysis and machine learning models.\n",
        "\n",
        "Importance of Handling Missing Data:\n",
        "\n",
        "Accuracy of Analysis\n",
        "- Missing values can bias results or lead to incorrect conclusions in statistical analysis.\n",
        "\n",
        "Model Performance\n",
        "- Many ML algorithms cannot handle NaN values directly → they may crash or produce wrong predictions.\n",
        "\n",
        "Data Integrity\n",
        "- Missing values can cause inconsistent calculations (e.g., mean, median, correlations).\n",
        "\n",
        "Avoid Errors\n",
        "- Functions in Pandas/NumPy may throw errors or return unexpected results if NaN values exist.\n",
        "\n",
        "Better Insights\n",
        "- Understanding patterns of missing data helps identify data collection issues or important trends (e.g., people not answering certain survey questions).\n",
        "\n",
        "Enables Proper Cleaning\n",
        "- Once missing data is detected, we can decide how to handle it:\n",
        "\n",
        "Remove rows/columns with too many NaNs\n",
        "- Fill missing values (with mean, median, mode, forward/backward fill, etc.)\n",
        "- Keep as NaN if meaningful (e.g., missing = \"not applicable\").\n",
        "\n",
        "Example in Pandas:\n",
        "\n",
        "import pandas as pd\n",
        "\n",
        "import numpy as np\n",
        "\n",
        "data = {\n",
        "\n",
        "    'Name': ['A', 'B', 'C', 'D'],\n",
        "    'Age': [25, np.nan, 30, 22],\n",
        "    'Salary': [50000, 60000, np.nan, 45000]\n",
        "}\n",
        "\n",
        "df = pd.DataFrame(data)\n",
        "\n",
        "print(\"Original Data:\\n\", df)\n",
        "\n",
        "print(\"\\nMissing values:\\n\", df.isnull().sum()) # Checking for missing values\n",
        "\n",
        "df['Age'] = df['Age'].fillna(df['Age'].mean())   # Replace with mean\n",
        "\n",
        "df['Salary'] = df['Salary'].fillna(df['Salary'].median())  # Replace with median\n",
        "\n",
        "print(\"\\nCleaned Data:\\n\", df) # Filling missing values"
      ],
      "metadata": {
        "id": "gdK96qoofVwh"
      }
    },
    {
      "cell_type": "markdown",
      "source": [
        "Q14.What are the benefits of using Plotly for data visualization?\n",
        "\n",
        "ans:\n",
        "Benefits of Using Plotly for Data Visualization:\n",
        "\n",
        "Interactivity:\n",
        "- Unlike Matplotlib/Seaborn (mostly static), Plotly charts are interactive:\n",
        "- Zoom, pan, hover tooltips, and clickable legends.\n",
        "\n",
        "Wide Range of Chart Types:\n",
        "- Supports basic charts (line, bar, scatter, pie) and advanced visualizations (3D plots, maps, financial charts, scientific visualizations).\n",
        "\n",
        "3D Visualization Support:\n",
        "- Provides interactive 3D scatter plots, surface plots, mesh plots, etc., which are hard to achieve in Matplotlib.\n",
        "\n",
        "Integration with Dash:\n",
        "- Works seamlessly with Dash to build interactive web-based dashboards for data apps without needing JavaScript.\n",
        "\n",
        "Customization & Styling:\n",
        "- Highly customizable with layout options (colors, fonts, annotations, multiple axes, etc.).\n",
        "\n",
        "Cross-Language Support:\n",
        "- Available not only in Python, but also in R, Julia, and JavaScript, making it versatile across platforms.\n",
        "\n",
        "Ease of Sharing:\n",
        "- Visualizations can be exported as static images (PNG, SVG, PDF) or shared online as interactive plots (HTML).\n",
        "\n",
        "Real-Time Data Visualization:\n",
        "- Useful for live updates and streaming data in dashboards.\n",
        "\n",
        "Better User Experience:\n",
        "- Hover effects, dynamic legends, and dropdown filters make plots more user-friendly for presentations and reports.\n",
        "\n",
        "Big Data Handling:\n",
        "- Supports WebGL rendering, allowing visualization of very large datasets efficiently.\n",
        "\n",
        "Example:\n",
        "\n",
        "import plotly.express as px\n",
        "\n",
        "import pandas as pd\n",
        "\n",
        "df = pd.DataFrame({\n",
        "\n",
        "    \"Fruit\": [\"Apple\", \"Banana\", \"Orange\", \"Grapes\"],\n",
        "    \"Amount\": [10, 15, 7, 12]\n",
        "}) # Sample dataset\n",
        "\n",
        "fig = px.bar(df, x=\"Fruit\", y=\"Amount\", title=\"Fruit Sales\") # Interactive bar chart\n",
        "\n",
        "fig.show()\n",
        "\n",
        " This chart will be interactive: you can hover over bars, zoom, and download as image."
      ],
      "metadata": {
        "id": "LHeBeLkehFVq"
      }
    },
    {
      "cell_type": "markdown",
      "source": [
        "Q15. How does NumPy handle multidimensional arrays?\n",
        "\n",
        "Ans:\n",
        "NumPy Handles Multidimensional Arrays:\n",
        "- In NumPy, arrays are represented by the ndarray object. This allows working with data of any number of dimensions (1D, 2D, 3D, … nD).\n",
        "\n",
        "Key Points:\n",
        "\n",
        "1. n-Dimensional Support\n",
        "- NumPy can handle arrays with any number of axes (dimensions).\n",
        "\n",
        "Examples:\n",
        "\n",
        "- 1D → [1, 2, 3] (vector)\n",
        "- 2D → [[1, 2], [3, 4]] (matrix)\n",
        "- 3D → stack of matrices (tensor-like structure).\n",
        "\n",
        "2. Shape Attribute\n",
        "- Every array has a .shape attribute → tuple showing the size along each dimension.\n",
        "- Example: a 2D array with 3 rows and 4 columns → shape = (3, 4).\n",
        "\n",
        "3. Indexing and Slicing\n",
        "- Supports accessing data using multi-axis indexing.\n",
        "- Example: arr[1, 2] → gets element from row 1, column 2 in a 2D array.\n",
        "\n",
        "4. Broadcasting\n",
        "- NumPy can apply operations across dimensions of different sizes using broadcasting rules.\n",
        "- Example: Adding a 1D vector to each row of a 2D matrix.\n",
        "\n",
        "5. Vectorized Operations\n",
        "- Arithmetic operations apply element-wise across multidimensional arrays without explicit loops.\n",
        "\n",
        "6. Reshaping\n",
        "- Arrays can be reshaped to different dimensions without changing data using .reshape().\n",
        "- Example: Convert a 1D array of 6 elements into a 2D array (2 rows × 3 columns).\n",
        "\n",
        "7. Efficient Memory Layout\n",
        "- NumPy arrays are stored in contiguous memory blocks, enabling fast operations on large multidimensional data.\n",
        "\n",
        "8. Multi-Dimensional Functions\n",
        "- Many NumPy functions work natively on nD arrays, e.g.,\n",
        "- np.sum(arr, axis=0) → sum along columns\n",
        "- np.sum(arr, axis=1) → sum along rows\n",
        "\n",
        "Example:\n",
        "\n",
        "import numpy as np\n",
        "\n",
        "arr = np.array([[1, 2, 3],\n",
        "                [4, 5, 6],\n",
        "                [7, 8, 9]]) # Create a 2D array (3x3)\n",
        "\n",
        "print(\"Array:\\n\", arr)\n",
        "\n",
        "print(\"Shape:\", arr.shape)   \n",
        "\n",
        "print(\"Dimension:\", arr.ndim)    \n",
        "\n",
        "print(\"Element [1,2]:\", arr[1,2])\n",
        "\n",
        "reshaped = arr.reshape(9) # Reshape to 1D\n",
        "\n",
        "print(\"Reshaped Array:\", reshaped)"
      ],
      "metadata": {
        "id": "xrcLV05Ciehm"
      }
    },
    {
      "cell_type": "markdown",
      "source": [
        "Q16.What is the role of Bokeh in data visualization?\n",
        "\n",
        "Ans:\n",
        "Role of Bokeh in Data Visualization:\n",
        "- Bokeh is a powerful Python library designed to create interactive, web-ready visualizations. Unlike static plotting libraries such as Matplotlib, Bokeh focuses on interactivity, scalability, and modern web integration.\n",
        "- It allows developers and data analysts to build dashboards, streaming visualizations, and highly interactive plots without requiring deep knowledge of JavaScript.\n",
        "\n",
        "1. Interactive Plots: Bokeh automatically adds features like zooming, panning, hover tooltips, and selection tools to visualizations.\n",
        "\n",
        "2. Web Integration: It outputs plots as standalone HTML files or can embed them into Flask, Django, or Jupyter Notebooks.\n",
        "\n",
        "3. Big Data Handling: Bokeh can handle streaming datasets and integrate with big data tools like Dask or Spark.\n",
        "\n",
        "4. Dashboards: Using Bokeh Server, you can create live dashboards where users can interact with widgets and see updates in real time.\n",
        "\n",
        "5. Modern Look: Bokeh uses JavaScript (specifically the BokehJS library) under the hood, so the plots are responsive, sleek, and web-friendly.\n",
        "\n",
        "- Bokeh plays a vital role when you want to move from static charts to interactive, shareable, and real-time visualizations, especially for dashboards and web applications."
      ],
      "metadata": {
        "id": "PnYEw0R1WG1Z"
      }
    },
    {
      "cell_type": "markdown",
      "source": [
        "Q17.Explain the difference between apply() and map() in Pandas.\n",
        "\n",
        "Ans:\n",
        "Difference between apply() and map() in Pandas:\n",
        "- Both apply() and map() are Pandas functions that allow you to transform data using custom functions, but their scope and flexibility differ.\n",
        "\n",
        "#map():\n",
        "- Works only on Pandas Series (one column).\n",
        "- Applies a function element-wise to each value in the Series.\n",
        "- Simpler and faster when you just need to transform individual elements.\n",
        "\n",
        "Example:\n",
        "\n",
        "df['salary'] = df['salary'].map(lambda x: x * 1.1)\n",
        "\n",
        "\n",
        "#apply():\n",
        "- Works on both DataFrames and Series.\n",
        "- Can apply a function row-wise (axis=1) or column-wise (axis=0).\n",
        "- Supports more complex operations beyond element-wise transformation.\n",
        "\n",
        "Example:\n",
        "\n",
        "df['total'] = df.apply(lambda row: row['price'] * row['quantity'], axis=1)\n",
        "\n",
        "\n",
        "- Key difference: map() is element-wise and limited to Series, while apply() is more flexible and can operate on both rows and columns of a DataFrame."
      ],
      "metadata": {
        "id": "coTTjFJfWIs4"
      }
    },
    {
      "cell_type": "markdown",
      "source": [
        "Q18.What are some advanced features of NumPy?\n",
        "\n",
        "Ans:\n",
        "Advanced Features of NumPy:\n",
        "- NumPy is the foundation of numerical computing in Python, and it provides features that go beyond basic arrays:\n",
        "\n",
        "1. Broadcasting – Allows operations on arrays of different shapes without explicitly writing loops. For example, adding a scalar to a matrix automatically expands the scalar to match the shape.\n",
        "\n",
        "2. Vectorization – Performs operations in C under the hood, eliminating slow Python loops and speeding up calculations.\n",
        "\n",
        "3. Memory Efficiency – Arrays are stored in contiguous memory blocks, making them faster and more compact than Python lists.\n",
        "\n",
        "4. Masked Arrays – Allows handling missing or invalid values while performing mathematical operations.\n",
        "\n",
        "5. Linear Algebra – Provides functions like dot(), inv() (inverse), eig() (eigenvalues), svd() (singular value decomposition).\n",
        "\n",
        "6. Fast Fourier Transform (FFT) – Enables signal processing and frequency analysis.\n",
        "\n",
        "7. Random Module – Includes random sampling, probability distributions (normal, binomial, etc.), and statistical simulations.\n",
        "\n",
        "8. Integration with C/C++ and Fortran – Offers high performance and the ability to link with compiled libraries.\n",
        "\n",
        "- These advanced features make NumPy essential not only for data science but also for machine learning, image processing, scientific computing, and deep learning frameworks like TensorFlow and PyTorch."
      ],
      "metadata": {
        "id": "kM-0rs14WKD6"
      }
    },
    {
      "cell_type": "markdown",
      "source": [
        "Q19.How does Pandas simplify time series analysis?\n",
        "\n",
        "Ans:\n",
        "How Pandas Simplifies Time Series Analysis:\n",
        "- Time series data (data indexed by dates/times) is very common in finance, science, and business analytics. Pandas provides built-in tools that make handling time data straightforward:\n",
        "\n",
        "- Date Parsing: Automatically converts string dates into datetime objects using pd.to_datetime().\n",
        "\n",
        "- Indexing by Time: You can use date-based indexing to select specific time periods. For example, df['2024-01'] retrieves all data from January 2024.\n",
        "\n",
        "- Resampling: Allows converting data from one frequency to another, e.g., daily data to monthly averages (df.resample('M').mean()).\n",
        "\n",
        "- Shifting and Lagging: The shift() function helps create lag variables for trend and correlation analysis.\n",
        "\n",
        "- Rolling Windows: rolling() allows calculating moving averages, rolling sums, or rolling correlations.\n",
        "\n",
        "- Frequency Handling: Functions like pd.date_range() generate time indices with custom frequencies (daily, monthly, yearly).\n",
        "\n",
        "- Plotting: Pandas integrates with Matplotlib, making it easy to visualize time series with just df.plot().\n",
        "\n",
        "- With these tools, Pandas eliminates the complexity of working with timestamps, making it a preferred choice for time series forecasting, trend analysis, and financial modeling."
      ],
      "metadata": {
        "id": "U3J5iH9SWMzp"
      }
    },
    {
      "cell_type": "markdown",
      "source": [
        "Q20.What is the role of a pivot table in Pandas?\n",
        "\n",
        "Ans:\n",
        "Role of Pivot Table in Pandas\n",
        "- A pivot table in Pandas is a powerful tool to summarize, analyze, and restructure data, similar to Excel pivot tables.\n",
        "- Summarization: It groups data based on one or more keys and then applies an aggregation function.\n",
        "- Aggregation: Common functions include sum, mean, count, min, and max.\n",
        "- Reshape Data: It allows converting data from a long format to a wide format for better readability.\n",
        "- Multi-dimensional Analysis: You can analyze data across multiple dimensions simultaneously.\n",
        "\n",
        "Example:\n",
        "\n",
        "pd.pivot_table(df, values='Sales', index='Region', columns='Product', aggfunc='sum')\n",
        "\n",
        "- Pivot tables are especially useful in business analytics (e.g., sales by region and product), where summarization and comparison are critical."
      ],
      "metadata": {
        "id": "AyMtzBOoWOYF"
      }
    },
    {
      "cell_type": "markdown",
      "source": [
        "Q21.Why is NumPy’s array slicing faster than Python’s list slicing?\n",
        "\n",
        "ans:\n",
        "Why NumPy’s Array Slicing is Faster than Python’s List Slicing:\n",
        "- NumPy slicing is significantly faster than slicing Python lists because of how data is stored and accessed:\n",
        "- Contiguous Memory: NumPy arrays are stored in a single memory block, making access and slicing efficient.\n",
        "- View vs Copy: Slicing a NumPy array returns a view of the original data (no copying), whereas Python lists create a new list object when sliced.\n",
        "- Vectorized Operations: NumPy operations are implemented in C, which makes slicing and computation faster.\n",
        "- Uniform Data Types: NumPy arrays store elements of the same data type, allowing optimized memory access, unlike lists that can store mixed types.\n",
        "- This is why NumPy is the backbone for handling large datasets and numerical computations."
      ],
      "metadata": {
        "id": "QqrGBZjpWPxe"
      }
    },
    {
      "cell_type": "markdown",
      "source": [
        "Q22.What are some common use cases for Seaborn?\n",
        "\n",
        "Ans:\n",
        "Common Use Cases for Seaborn (Pointwise & Theoretical):\n",
        "\n",
        "Seaborn is built on top of Matplotlib and is specifically designed for statistical data visualization. It provides beautiful default styles and easy-to-use functions.\n",
        "\n",
        "- Exploratory Data Analysis (EDA) – Quickly explore datasets with built-in functions like pairplot() and heatmap().\n",
        "- Distribution Analysis – Visualize distributions using histograms (histplot), density plots (kdeplot), and rug plots.\n",
        "- Categorical Data – Compare categories using bar plots, count plots, boxplots, violin plots, and swarm plots.\n",
        "- Correlation & Relationships – Show correlations using heatmaps or scatter plots with regression lines (lmplot).\n",
        "- Pairwise Relationships – pairplot() helps analyze multiple variable interactions at once.\n",
        "- Time Series Analysis – Line plots for visualizing changes over time.\n",
        "- Beautiful Defaults – Provides attractive color palettes and styles with minimal customization.\n",
        "\n",
        "In essence, Seaborn is a data scientist’s favorite tool for quick, elegant, and informative plots during the exploratory phase of analysis."
      ],
      "metadata": {
        "id": "yhuEbpJJWRJQ"
      }
    },
    {
      "cell_type": "code",
      "source": [
        "#Q1.A How do you create a 2D NumPy array and calculate the sum of each row?\n",
        "import numpy as np\n",
        "\n",
        "arr = np.array([[1, 2, 3],\n",
        "                [4, 5, 6],\n",
        "                [7, 8, 9]])\n",
        "\n",
        "row_sum = np.sum(arr, axis=1)\n",
        "print(\"Row-wise sum:\", row_sum)"
      ],
      "metadata": {
        "colab": {
          "base_uri": "https://localhost:8080/"
        },
        "id": "x5-aSIWLTJsA",
        "outputId": "c11d9f30-d65a-468c-c6a0-9afd2e328be2"
      },
      "execution_count": 1,
      "outputs": [
        {
          "output_type": "stream",
          "name": "stdout",
          "text": [
            "Row-wise sum: [ 6 15 24]\n"
          ]
        }
      ]
    },
    {
      "cell_type": "code",
      "source": [
        "#Q2.Write a Pandas script to find the mean of a specific column in a DataFrame?\n",
        "import pandas as pd\n",
        "\n",
        "df = pd.DataFrame({\n",
        "    'Name': ['A', 'B', 'C'],\n",
        "    'Score': [85, 90, 95]\n",
        "})\n",
        "\n",
        "mean_score = df['Score'].mean()\n",
        "print(\"Mean of Score column:\", mean_score)\n"
      ],
      "metadata": {
        "colab": {
          "base_uri": "https://localhost:8080/"
        },
        "id": "Lpw61BDsTJ6R",
        "outputId": "5456cbe3-d86c-4542-a991-328b9fa5dc38"
      },
      "execution_count": 2,
      "outputs": [
        {
          "output_type": "stream",
          "name": "stdout",
          "text": [
            "Mean of Score column: 90.0\n"
          ]
        }
      ]
    },
    {
      "cell_type": "code",
      "source": [
        "#Q3.Create a scatter plot using Matplotlib?\n",
        "import matplotlib.pyplot as plt\n",
        "\n",
        "x = [5, 7, 8, 7, 6, 9, 5, 6]\n",
        "y = [99, 86, 87, 88, 100, 86, 103, 87]\n",
        "\n",
        "plt.scatter(x, y, color='blue')\n",
        "plt.title(\"Scatter Plot Example\")\n",
        "plt.xlabel(\"X-axis\")\n",
        "plt.ylabel(\"Y-axis\")\n",
        "plt.show()"
      ],
      "metadata": {
        "colab": {
          "base_uri": "https://localhost:8080/",
          "height": 472
        },
        "id": "fS93bp5ATJ9e",
        "outputId": "ea8526ff-2eb3-46d3-d136-f1703aa8f4d0"
      },
      "execution_count": 3,
      "outputs": [
        {
          "output_type": "display_data",
          "data": {
            "text/plain": [
              "<Figure size 640x480 with 1 Axes>"
            ],
            "image/png": "[encoded data removed]"
          },
          "metadata": {}
        }
      ]
    },
    {
      "cell_type": "code",
      "source": [
        "#Q4. How do you calculate the correlation matrix using Seaborn and visualize it with a heatmap?\n",
        "import seaborn as sns\n",
        "import pandas as pd\n",
        "import matplotlib.pyplot as plt\n",
        "\n",
        "df = pd.DataFrame({\n",
        "    'A': [1, 2, 3, 4],\n",
        "    'B': [4, 3, 2, 1],\n",
        "    'C': [5, 6, 7, 8]\n",
        "})\n",
        "\n",
        "corr = df.corr()\n",
        "sns.heatmap(corr, annot=True, cmap=\"coolwarm\")\n",
        "plt.title(\"Correlation Heatmap\")\n",
        "plt.show()"
      ],
      "metadata": {
        "colab": {
          "base_uri": "https://localhost:8080/",
          "height": 452
        },
        "id": "LUSWctxzTKAv",
        "outputId": "44c71140-7c35-48f3-a2f1-8a637a98d263"
      },
      "execution_count": 4,
      "outputs": [
        {
          "output_type": "display_data",
          "data": {
            "text/plain": [
              "<Figure size 640x480 with 2 Axes>"
            ],
            "image/png": "[encoded data removed]"
          },
          "metadata": {}
        }
      ]
    },
    {
      "cell_type": "code",
      "source": [
        "#Q5.Generate a bar plot using Plotly?\n",
        "import plotly.express as px\n",
        "\n",
        "df = pd.DataFrame({\n",
        "    'Fruit': ['Apple', 'Banana', 'Orange'],\n",
        "    'Sales': [10, 15, 7]\n",
        "})\n",
        "\n",
        "fig = px.bar(df, x='Fruit', y='Sales', title=\"Fruit Sales\")\n",
        "fig.show()"
      ],
      "metadata": {
        "colab": {
          "base_uri": "https://localhost:8080/",
          "height": 542
        },
        "id": "laysFpGSTKD3",
        "outputId": "c6d70b9f-034c-4cb8-c151-0bc7cda2e849"
      },
      "execution_count": 5,
      "outputs": [
        {
          "output_type": "display_data",
          "data": {
            "text/html": [
              "<html>\n",
              "<head><meta charset=\"utf-8\" /></head>\n",
              "<body>\n",
              "    <div>            <script src=\"https://cdnjs.cloudflare.com/ajax/libs/mathjax/2.7.5/MathJax.js?config=TeX-AMS-MML_SVG\"></script><script type=\"text/javascript\">if (window.MathJax && window.MathJax.Hub && window.MathJax.Hub.Config) {window.MathJax.Hub.Config({SVG: {font: \"STIX-Web\"}});}</script>                <script type=\"text/javascript\">window.PlotlyConfig = {MathJaxConfig: 'local'};</script>\n",
              "        <script charset=\"utf-8\" src=\"https://cdn.plot.ly/plotly-2.35.2.min.js\"></script>                <div id=\"e02d7d5d-c473-4dc4-8c1f-e188ed28d3a4\" class=\"plotly-graph-div\" style=\"height:525px; width:100%;\"></div>            <script type=\"text/javascript\">                                    window.PLOTLYENV=window.PLOTLYENV || {};                                    if (document.getElementById(\"e02d7d5d-c473-4dc4-8c1f-e188ed28d3a4\")) {                    Plotly.newPlot(                        \"e02d7d5d-c473-4dc4-8c1f-e188ed28d3a4\",                        [{\"alignmentgroup\":\"True\",\"hovertemplate\":\"Fruit=%{x}\\u003cbr\\u003eSales=%{y}\\u003cextra\\u003e\\u003c\\u002fextra\\u003e\",\"legendgroup\":\"\",\"marker\":{\"color\":\"#636efa\",\"pattern\":{\"shape\":\"\"}},\"name\":\"\",\"offsetgroup\":\"\",\"orientation\":\"v\",\"showlegend\":false,\"textposition\":\"auto\",\"x\":[\"Apple\",\"Banana\",\"Orange\"],\"xaxis\":\"x\",\"y\":[10,15,7],\"yaxis\":\"y\",\"type\":\"bar\"}],                        {\"template\":{\"data\":{\"histogram2dcontour\":[{\"type\":\"histogram2dcontour\",\"colorbar\":{\"outlinewidth\":0,\"ticks\":\"\"},\"colorscale\":[[0.0,\"#0d0887\"],[0.1111111111111111,\"#46039f\"],[0.2222222222222222,\"#7201a8\"],[0.3333333333333333,\"#9c179e\"],[0.4444444444444444,\"#bd3786\"],[0.5555555555555556,\"#d8576b\"],[0.6666666666666666,\"#ed7953\"],[0.7777777777777778,\"#fb9f3a\"],[0.8888888888888888,\"#fdca26\"],[1.0,\"#f0f921\"]]}],\"choropleth\":[{\"type\":\"choropleth\",\"colorbar\":{\"outlinewidth\":0,\"ticks\":\"\"}}],\"histogram2d\":[{\"type\":\"histogram2d\",\"colorbar\":{\"outlinewidth\":0,\"ticks\":\"\"},\"colorscale\":[[0.0,\"#0d0887\"],[0.1111111111111111,\"#46039f\"],[0.2222222222222222,\"#7201a8\"],[0.3333333333333333,\"#9c179e\"],[0.4444444444444444,\"#bd3786\"],[0.5555555555555556,\"#d8576b\"],[0.6666666666666666,\"#ed7953\"],[0.7777777777777778,\"#fb9f3a\"],[0.8888888888888888,\"#fdca26\"],[1.0,\"#f0f921\"]]}],\"heatmap\":[{\"type\":\"heatmap\",\"colorbar\":{\"outlinewidth\":0,\"ticks\":\"\"},\"colorscale\":[[0.0,\"#0d0887\"],[0.1111111111111111,\"#46039f\"],[0.2222222222222222,\"#7201a8\"],[0.3333333333333333,\"#9c179e\"],[0.4444444444444444,\"#bd3786\"],[0.5555555555555556,\"#d8576b\"],[0.6666666666666666,\"#ed7953\"],[0.7777777777777778,\"#fb9f3a\"],[0.8888888888888888,\"#fdca26\"],[1.0,\"#f0f921\"]]}],\"heatmapgl\":[{\"type\":\"heatmapgl\",\"colorbar\":{\"outlinewidth\":0,\"ticks\":\"\"},\"colorscale\":[[0.0,\"#0d0887\"],[0.1111111111111111,\"#46039f\"],[0.2222222222222222,\"#7201a8\"],[0.3333333333333333,\"#9c179e\"],[0.4444444444444444,\"#bd3786\"],[0.5555555555555556,\"#d8576b\"],[0.6666666666666666,\"#ed7953\"],[0.7777777777777778,\"#fb9f3a\"],[0.8888888888888888,\"#fdca26\"],[1.0,\"#f0f921\"]]}],\"contourcarpet\":[{\"type\":\"contourcarpet\",\"colorbar\":{\"outlinewidth\":0,\"ticks\":\"\"}}],\"contour\":[{\"type\":\"contour\",\"colorbar\":{\"outlinewidth\":0,\"ticks\":\"\"},\"colorscale\":[[0.0,\"#0d0887\"],[0.1111111111111111,\"#46039f\"],[0.2222222222222222,\"#7201a8\"],[0.3333333333333333,\"#9c179e\"],[0.4444444444444444,\"#bd3786\"],[0.5555555555555556,\"#d8576b\"],[0.6666666666666666,\"#ed7953\"],[0.7777777777777778,\"#fb9f3a\"],[0.8888888888888888,\"#fdca26\"],[1.0,\"#f0f921\"]]}],\"surface\":[{\"type\":\"surface\",\"colorbar\":{\"outlinewidth\":0,\"ticks\":\"\"},\"colorscale\":[[0.0,\"#0d0887\"],[0.1111111111111111,\"#46039f\"],[0.2222222222222222,\"#7201a8\"],[0.3333333333333333,\"#9c179e\"],[0.4444444444444444,\"#bd3786\"],[0.5555555555555556,\"#d8576b\"],[0.6666666666666666,\"#ed7953\"],[0.7777777777777778,\"#fb9f3a\"],[0.8888888888888888,\"#fdca26\"],[1.0,\"#f0f921\"]]}],\"mesh3d\":[{\"type\":\"mesh3d\",\"colorbar\":{\"outlinewidth\":0,\"ticks\":\"\"}}],\"scatter\":[{\"fillpattern\":{\"fillmode\":\"overlay\",\"size\":10,\"solidity\":0.2},\"type\":\"scatter\"}],\"parcoords\":[{\"type\":\"parcoords\",\"line\":{\"colorbar\":{\"outlinewidth\":0,\"ticks\":\"\"}}}],\"scatterpolargl\":[{\"type\":\"scatterpolargl\",\"marker\":{\"colorbar\":{\"outlinewidth\":0,\"ticks\":\"\"}}}],\"bar\":[{\"error_x\":{\"color\":\"#2a3f5f\"},\"error_y\":{\"color\":\"#2a3f5f\"},\"marker\":{\"line\":{\"color\":\"#E5ECF6\",\"width\":0.5},\"pattern\":{\"fillmode\":\"overlay\",\"size\":10,\"solidity\":0.2}},\"type\":\"bar\"}],\"scattergeo\":[{\"type\":\"scattergeo\",\"marker\":{\"colorbar\":{\"outlinewidth\":0,\"ticks\":\"\"}}}],\"scatterpolar\":[{\"type\":\"scatterpolar\",\"marker\":{\"colorbar\":{\"outlinewidth\":0,\"ticks\":\"\"}}}],\"histogram\":[{\"marker\":{\"pattern\":{\"fillmode\":\"overlay\",\"size\":10,\"solidity\":0.2}},\"type\":\"histogram\"}],\"scattergl\":[{\"type\":\"scattergl\",\"marker\":{\"colorbar\":{\"outlinewidth\":0,\"ticks\":\"\"}}}],\"scatter3d\":[{\"type\":\"scatter3d\",\"line\":{\"colorbar\":{\"outlinewidth\":0,\"ticks\":\"\"}},\"marker\":{\"colorbar\":{\"outlinewidth\":0,\"ticks\":\"\"}}}],\"scattermapbox\":[{\"type\":\"scattermapbox\",\"marker\":{\"colorbar\":{\"outlinewidth\":0,\"ticks\":\"\"}}}],\"scatterternary\":[{\"type\":\"scatterternary\",\"marker\":{\"colorbar\":{\"outlinewidth\":0,\"ticks\":\"\"}}}],\"scattercarpet\":[{\"type\":\"scattercarpet\",\"marker\":{\"colorbar\":{\"outlinewidth\":0,\"ticks\":\"\"}}}],\"carpet\":[{\"aaxis\":{\"endlinecolor\":\"#2a3f5f\",\"gridcolor\":\"white\",\"linecolor\":\"white\",\"minorgridcolor\":\"white\",\"startlinecolor\":\"#2a3f5f\"},\"baxis\":{\"endlinecolor\":\"#2a3f5f\",\"gridcolor\":\"white\",\"linecolor\":\"white\",\"minorgridcolor\":\"white\",\"startlinecolor\":\"#2a3f5f\"},\"type\":\"carpet\"}],\"table\":[{\"cells\":{\"fill\":{\"color\":\"#EBF0F8\"},\"line\":{\"color\":\"white\"}},\"header\":{\"fill\":{\"color\":\"#C8D4E3\"},\"line\":{\"color\":\"white\"}},\"type\":\"table\"}],\"barpolar\":[{\"marker\":{\"line\":{\"color\":\"#E5ECF6\",\"width\":0.5},\"pattern\":{\"fillmode\":\"overlay\",\"size\":10,\"solidity\":0.2}},\"type\":\"barpolar\"}],\"pie\":[{\"automargin\":true,\"type\":\"pie\"}]},\"layout\":{\"autotypenumbers\":\"strict\",\"colorway\":[\"#636efa\",\"#EF553B\",\"#00cc96\",\"#ab63fa\",\"#FFA15A\",\"#19d3f3\",\"#FF6692\",\"#B6E880\",\"#FF97FF\",\"#FECB52\"],\"font\":{\"color\":\"#2a3f5f\"},\"hovermode\":\"closest\",\"hoverlabel\":{\"align\":\"left\"},\"paper_bgcolor\":\"white\",\"plot_bgcolor\":\"#E5ECF6\",\"polar\":{\"bgcolor\":\"#E5ECF6\",\"angularaxis\":{\"gridcolor\":\"white\",\"linecolor\":\"white\",\"ticks\":\"\"},\"radialaxis\":{\"gridcolor\":\"white\",\"linecolor\":\"white\",\"ticks\":\"\"}},\"ternary\":{\"bgcolor\":\"#E5ECF6\",\"aaxis\":{\"gridcolor\":\"white\",\"linecolor\":\"white\",\"ticks\":\"\"},\"baxis\":{\"gridcolor\":\"white\",\"linecolor\":\"white\",\"ticks\":\"\"},\"caxis\":{\"gridcolor\":\"white\",\"linecolor\":\"white\",\"ticks\":\"\"}},\"coloraxis\":{\"colorbar\":{\"outlinewidth\":0,\"ticks\":\"\"}},\"colorscale\":{\"sequential\":[[0.0,\"#0d0887\"],[0.1111111111111111,\"#46039f\"],[0.2222222222222222,\"#7201a8\"],[0.3333333333333333,\"#9c179e\"],[0.4444444444444444,\"#bd3786\"],[0.5555555555555556,\"#d8576b\"],[0.6666666666666666,\"#ed7953\"],[0.7777777777777778,\"#fb9f3a\"],[0.8888888888888888,\"#fdca26\"],[1.0,\"#f0f921\"]],\"sequentialminus\":[[0.0,\"#0d0887\"],[0.1111111111111111,\"#46039f\"],[0.2222222222222222,\"#7201a8\"],[0.3333333333333333,\"#9c179e\"],[0.4444444444444444,\"#bd3786\"],[0.5555555555555556,\"#d8576b\"],[0.6666666666666666,\"#ed7953\"],[0.7777777777777778,\"#fb9f3a\"],[0.8888888888888888,\"#fdca26\"],[1.0,\"#f0f921\"]],\"diverging\":[[0,\"#8e0152\"],[0.1,\"#c51b7d\"],[0.2,\"#de77ae\"],[0.3,\"#f1b6da\"],[0.4,\"#fde0ef\"],[0.5,\"#f7f7f7\"],[0.6,\"#e6f5d0\"],[0.7,\"#b8e186\"],[0.8,\"#7fbc41\"],[0.9,\"#4d9221\"],[1,\"#276419\"]]},\"xaxis\":{\"gridcolor\":\"white\",\"linecolor\":\"white\",\"ticks\":\"\",\"title\":{\"standoff\":15},\"zerolinecolor\":\"white\",\"automargin\":true,\"zerolinewidth\":2},\"yaxis\":{\"gridcolor\":\"white\",\"linecolor\":\"white\",\"ticks\":\"\",\"title\":{\"standoff\":15},\"zerolinecolor\":\"white\",\"automargin\":true,\"zerolinewidth\":2},\"scene\":{\"xaxis\":{\"backgroundcolor\":\"#E5ECF6\",\"gridcolor\":\"white\",\"linecolor\":\"white\",\"showbackground\":true,\"ticks\":\"\",\"zerolinecolor\":\"white\",\"gridwidth\":2},\"yaxis\":{\"backgroundcolor\":\"#E5ECF6\",\"gridcolor\":\"white\",\"linecolor\":\"white\",\"showbackground\":true,\"ticks\":\"\",\"zerolinecolor\":\"white\",\"gridwidth\":2},\"zaxis\":{\"backgroundcolor\":\"#E5ECF6\",\"gridcolor\":\"white\",\"linecolor\":\"white\",\"showbackground\":true,\"ticks\":\"\",\"zerolinecolor\":\"white\",\"gridwidth\":2}},\"shapedefaults\":{\"line\":{\"color\":\"#2a3f5f\"}},\"annotationdefaults\":{\"arrowcolor\":\"#2a3f5f\",\"arrowhead\":0,\"arrowwidth\":1},\"geo\":{\"bgcolor\":\"white\",\"landcolor\":\"#E5ECF6\",\"subunitcolor\":\"white\",\"showland\":true,\"showlakes\":true,\"lakecolor\":\"white\"},\"title\":{\"x\":0.05},\"mapbox\":{\"style\":\"light\"}}},\"xaxis\":{\"anchor\":\"y\",\"domain\":[0.0,1.0],\"title\":{\"text\":\"Fruit\"}},\"yaxis\":{\"anchor\":\"x\",\"domain\":[0.0,1.0],\"title\":{\"text\":\"Sales\"}},\"legend\":{\"tracegroupgap\":0},\"title\":{\"text\":\"Fruit Sales\"},\"barmode\":\"relative\"},                        {\"responsive\": true}                    ).then(function(){\n",
              "                            \n",
              "var gd = document.getElementById('e02d7d5d-c473-4dc4-8c1f-e188ed28d3a4');\n",
              "var x = new MutationObserver(function (mutations, observer) {{\n",
              "        var display = window.getComputedStyle(gd).display;\n",
              "        if (!display || display === 'none') {{\n",
              "            console.log([gd, 'removed!']);\n",
              "            Plotly.purge(gd);\n",
              "            observer.disconnect();\n",
              "        }}\n",
              "}});\n",
              "\n",
              "// Listen for the removal of the full notebook cells\n",
              "var notebookContainer = gd.closest('#notebook-container');\n",
              "if (notebookContainer) {{\n",
              "    x.observe(notebookContainer, {childList: true});\n",
              "}}\n",
              "\n",
              "// Listen for the clearing of the current output cell\n",
              "var outputEl = gd.closest('.output');\n",
              "if (outputEl) {{\n",
              "    x.observe(outputEl, {childList: true});\n",
              "}}\n",
              "\n",
              "                        })                };                            </script>        </div>\n",
              "</body>\n",
              "</html>"
            ]
          },
          "metadata": {}
        }
      ]
    },
    {
      "cell_type": "code",
      "source": [
        "#Q6.Create a DataFrame and add a new column based on an existing column?\n",
        "import pandas as pd\n",
        "\n",
        "df = pd.DataFrame({\n",
        "    'Price': [100, 200, 300]\n",
        "})\n",
        "\n",
        "df['Discounted'] = df['Price'] * 0.9\n",
        "print(df)"
      ],
      "metadata": {
        "colab": {
          "base_uri": "https://localhost:8080/"
        },
        "id": "07hSTpk5TKHA",
        "outputId": "d4eee737-d3e8-4ac9-eb3e-81204d35c58b"
      },
      "execution_count": 6,
      "outputs": [
        {
          "output_type": "stream",
          "name": "stdout",
          "text": [
            "   Price  Discounted\n",
            "0    100        90.0\n",
            "1    200       180.0\n",
            "2    300       270.0\n"
          ]
        }
      ]
    },
    {
      "cell_type": "code",
      "source": [
        "#Q7.Write a program to perform element-wise multiplication of two NumPy arrays?\n",
        "import numpy as np\n",
        "\n",
        "a = np.array([1, 2, 3])\n",
        "b = np.array([4, 5, 6])\n",
        "\n",
        "result = a * b\n",
        "print(\"Element-wise multiplication:\", result)"
      ],
      "metadata": {
        "colab": {
          "base_uri": "https://localhost:8080/"
        },
        "id": "Kcq017iaTKJ8",
        "outputId": "81a052fa-caa3-449e-fe6b-707bbfe556d2"
      },
      "execution_count": 7,
      "outputs": [
        {
          "output_type": "stream",
          "name": "stdout",
          "text": [
            "Element-wise multiplication: [ 4 10 18]\n"
          ]
        }
      ]
    },
    {
      "cell_type": "code",
      "source": [
        "#Q8.Create a line plot with multiple lines using Matplotlib?\n",
        "import matplotlib.pyplot as plt\n",
        "\n",
        "x = [1, 2, 3, 4]\n",
        "y1 = [10, 20, 30, 40]\n",
        "y2 = [5, 15, 25, 35]\n",
        "\n",
        "plt.plot(x, y1, label=\"Line 1\")\n",
        "plt.plot(x, y2, label=\"Line 2\")\n",
        "plt.xlabel(\"X-axis\")\n",
        "plt.ylabel(\"Y-axis\")\n",
        "plt.legend()\n",
        "plt.title(\"Multiple Line Plot\")\n",
        "plt.show()"
      ],
      "metadata": {
        "colab": {
          "base_uri": "https://localhost:8080/",
          "height": 472
        },
        "id": "Si0vq525TKNM",
        "outputId": "6f58d7f3-2136-4423-d0c1-42db311d614f"
      },
      "execution_count": 8,
      "outputs": [
        {
          "output_type": "display_data",
          "data": {
            "text/plain": [
              "<Figure size 640x480 with 1 Axes>"
            ],
            "image/png": "[encoded data removed]"
          },
          "metadata": {}
        }
      ]
    },
    {
      "cell_type": "code",
      "source": [
        "#Q9.Generate a Pandas DataFrame and filter rows where a column value is greater than a threshold?\n",
        "import pandas as pd\n",
        "\n",
        "df = pd.DataFrame({\n",
        "    'Name': ['A', 'B', 'C'],\n",
        "    'Score': [85, 60, 95]\n",
        "})\n",
        "\n",
        "filtered = df[df['Score'] > 70]\n",
        "print(filtered)"
      ],
      "metadata": {
        "colab": {
          "base_uri": "https://localhost:8080/"
        },
        "id": "U-S26OsBTKQH",
        "outputId": "6aa5cb88-8ae3-4519-fc34-9e721b6cabd9"
      },
      "execution_count": 9,
      "outputs": [
        {
          "output_type": "stream",
          "name": "stdout",
          "text": [
            "  Name  Score\n",
            "0    A     85\n",
            "2    C     95\n"
          ]
        }
      ]
    },
    {
      "cell_type": "code",
      "source": [
        "#Q10.Create a histogram using Seaborn to visualize a distribution?\n",
        "import seaborn as sns\n",
        "import matplotlib.pyplot as plt\n",
        "\n",
        "data = [1, 2, 2, 3, 3, 3, 4, 4, 5]\n",
        "\n",
        "sns.histplot(data, bins=5, kde=True)\n",
        "plt.title(\"Distribution Histogram\")\n",
        "plt.show()"
      ],
      "metadata": {
        "colab": {
          "base_uri": "https://localhost:8080/",
          "height": 452
        },
        "id": "09OrexyETKTE",
        "outputId": "b6998e06-c529-4e69-be33-0787508876dd"
      },
      "execution_count": 10,
      "outputs": [
        {
          "output_type": "display_data",
          "data": {
            "text/plain": [
              "<Figure size 640x480 with 1 Axes>"
            ],
            "image/png": "[encoded data removed]"
          },
          "metadata": {}
        }
      ]
    },
    {
      "cell_type": "code",
      "source": [
        "#Q11. Perform matrix multiplication using NumPy?\n",
        "import numpy as np\n",
        "\n",
        "A = np.array([[1, 2], [3, 4]])\n",
        "B = np.array([[5, 6], [7, 8]])\n",
        "\n",
        "result = np.dot(A, B)  # or A @ B\n",
        "print(\"Matrix Multiplication:\\n\", result)"
      ],
      "metadata": {
        "colab": {
          "base_uri": "https://localhost:8080/"
        },
        "id": "ehRPsEcpTKWi",
        "outputId": "3ca77a3a-0a26-4c42-81b7-42c5c0b6a633"
      },
      "execution_count": 11,
      "outputs": [
        {
          "output_type": "stream",
          "name": "stdout",
          "text": [
            "Matrix Multiplication:\n",
            " [[19 22]\n",
            " [43 50]]\n"
          ]
        }
      ]
    },
    {
      "cell_type": "code",
      "source": [
        "# Q12. Use Pandas to load a CSV file and display its first 5 rows\n",
        "\n",
        "import pandas as pd\n",
        "\n",
        "data = {\n",
        "    \"Name\": [\"Alice\", \"Bob\", \"Charlie\", \"David\", \"Eva\", \"Frank\", \"Grace\"],\n",
        "    \"Age\": [24, 27, 22, 32, 29, 35, 30],\n",
        "    \"Department\": [\"HR\", \"IT\", \"Finance\", \"IT\", \"Marketing\", \"Finance\", \"HR\"],\n",
        "    \"Salary\": [40000, 50000, 45000, 60000, 52000, 58000, 47000]\n",
        "}\n",
        "\n",
        "csv_filename = \"employees.csv\"\n",
        "df_sample = pd.DataFrame(data)\n",
        "df_sample.to_csv(csv_filename, index=False)\n",
        "\n",
        "df = pd.read_csv(csv_filename)\n",
        "\n",
        "print(df.head())\n"
      ],
      "metadata": {
        "colab": {
          "base_uri": "https://localhost:8080/"
        },
        "id": "7kbLQJEgTeLH",
        "outputId": "a5ccbf05-693a-4b66-c706-6d85ea0bdc5b"
      },
      "execution_count": 3,
      "outputs": [
        {
          "output_type": "stream",
          "name": "stdout",
          "text": [
            "      Name  Age Department  Salary\n",
            "0    Alice   24         HR   40000\n",
            "1      Bob   27         IT   50000\n",
            "2  Charlie   22    Finance   45000\n",
            "3    David   32         IT   60000\n",
            "4      Eva   29  Marketing   52000\n"
          ]
        }
      ]
    },
    {
      "cell_type": "code",
      "source": [
        "#Q13.Create a 3D scatter plot using Plotly?\n",
        "import plotly.express as px\n",
        "import pandas as pd\n",
        "\n",
        "df = pd.DataFrame({\n",
        "    'x': [1, 2, 3, 4],\n",
        "    'y': [10, 11, 12, 13],\n",
        "    'z': [5, 6, 7, 8],\n",
        "    'category': ['A', 'B', 'A', 'B']\n",
        "})\n",
        "\n",
        "fig = px.scatter_3d(df, x='x', y='y', z='z', color='category',\n",
        "                    title=\"3D Scatter Plot\")\n",
        "fig.show()"
      ],
      "metadata": {
        "colab": {
          "base_uri": "https://localhost:8080/",
          "height": 542
        },
        "id": "HX3NoB5nTeSx",
        "outputId": "88791fe5-3811-4f9d-c2c3-642c317e7d6f"
      },
      "execution_count": 13,
      "outputs": [
        {
          "output_type": "display_data",
          "data": {
            "text/html": [
              "<html>\n",
              "<head><meta charset=\"utf-8\" /></head>\n",
              "<body>\n",
              "    <div>            <script src=\"https://cdnjs.cloudflare.com/ajax/libs/mathjax/2.7.5/MathJax.js?config=TeX-AMS-MML_SVG\"></script><script type=\"text/javascript\">if (window.MathJax && window.MathJax.Hub && window.MathJax.Hub.Config) {window.MathJax.Hub.Config({SVG: {font: \"STIX-Web\"}});}</script>                <script type=\"text/javascript\">window.PlotlyConfig = {MathJaxConfig: 'local'};</script>\n",
              "        <script charset=\"utf-8\" src=\"https://cdn.plot.ly/plotly-2.35.2.min.js\"></script>                <div id=\"a745f1f6-2ce0-4488-99ef-babff98ae76f\" class=\"plotly-graph-div\" style=\"height:525px; width:100%;\"></div>            <script type=\"text/javascript\">                                    window.PLOTLYENV=window.PLOTLYENV || {};                                    if (document.getElementById(\"a745f1f6-2ce0-4488-99ef-babff98ae76f\")) {                    Plotly.newPlot(                        \"a745f1f6-2ce0-4488-99ef-babff98ae76f\",                        [{\"hovertemplate\":\"category=A\\u003cbr\\u003ex=%{x}\\u003cbr\\u003ey=%{y}\\u003cbr\\u003ez=%{z}\\u003cextra\\u003e\\u003c\\u002fextra\\u003e\",\"legendgroup\":\"A\",\"marker\":{\"color\":\"#636efa\",\"symbol\":\"circle\"},\"mode\":\"markers\",\"name\":\"A\",\"scene\":\"scene\",\"showlegend\":true,\"x\":[1,3],\"y\":[10,12],\"z\":[5,7],\"type\":\"scatter3d\"},{\"hovertemplate\":\"category=B\\u003cbr\\u003ex=%{x}\\u003cbr\\u003ey=%{y}\\u003cbr\\u003ez=%{z}\\u003cextra\\u003e\\u003c\\u002fextra\\u003e\",\"legendgroup\":\"B\",\"marker\":{\"color\":\"#EF553B\",\"symbol\":\"circle\"},\"mode\":\"markers\",\"name\":\"B\",\"scene\":\"scene\",\"showlegend\":true,\"x\":[2,4],\"y\":[11,13],\"z\":[6,8],\"type\":\"scatter3d\"}],                        {\"template\":{\"data\":{\"histogram2dcontour\":[{\"type\":\"histogram2dcontour\",\"colorbar\":{\"outlinewidth\":0,\"ticks\":\"\"},\"colorscale\":[[0.0,\"#0d0887\"],[0.1111111111111111,\"#46039f\"],[0.2222222222222222,\"#7201a8\"],[0.3333333333333333,\"#9c179e\"],[0.4444444444444444,\"#bd3786\"],[0.5555555555555556,\"#d8576b\"],[0.6666666666666666,\"#ed7953\"],[0.7777777777777778,\"#fb9f3a\"],[0.8888888888888888,\"#fdca26\"],[1.0,\"#f0f921\"]]}],\"choropleth\":[{\"type\":\"choropleth\",\"colorbar\":{\"outlinewidth\":0,\"ticks\":\"\"}}],\"histogram2d\":[{\"type\":\"histogram2d\",\"colorbar\":{\"outlinewidth\":0,\"ticks\":\"\"},\"colorscale\":[[0.0,\"#0d0887\"],[0.1111111111111111,\"#46039f\"],[0.2222222222222222,\"#7201a8\"],[0.3333333333333333,\"#9c179e\"],[0.4444444444444444,\"#bd3786\"],[0.5555555555555556,\"#d8576b\"],[0.6666666666666666,\"#ed7953\"],[0.7777777777777778,\"#fb9f3a\"],[0.8888888888888888,\"#fdca26\"],[1.0,\"#f0f921\"]]}],\"heatmap\":[{\"type\":\"heatmap\",\"colorbar\":{\"outlinewidth\":0,\"ticks\":\"\"},\"colorscale\":[[0.0,\"#0d0887\"],[0.1111111111111111,\"#46039f\"],[0.2222222222222222,\"#7201a8\"],[0.3333333333333333,\"#9c179e\"],[0.4444444444444444,\"#bd3786\"],[0.5555555555555556,\"#d8576b\"],[0.6666666666666666,\"#ed7953\"],[0.7777777777777778,\"#fb9f3a\"],[0.8888888888888888,\"#fdca26\"],[1.0,\"#f0f921\"]]}],\"heatmapgl\":[{\"type\":\"heatmapgl\",\"colorbar\":{\"outlinewidth\":0,\"ticks\":\"\"},\"colorscale\":[[0.0,\"#0d0887\"],[0.1111111111111111,\"#46039f\"],[0.2222222222222222,\"#7201a8\"],[0.3333333333333333,\"#9c179e\"],[0.4444444444444444,\"#bd3786\"],[0.5555555555555556,\"#d8576b\"],[0.6666666666666666,\"#ed7953\"],[0.7777777777777778,\"#fb9f3a\"],[0.8888888888888888,\"#fdca26\"],[1.0,\"#f0f921\"]]}],\"contourcarpet\":[{\"type\":\"contourcarpet\",\"colorbar\":{\"outlinewidth\":0,\"ticks\":\"\"}}],\"contour\":[{\"type\":\"contour\",\"colorbar\":{\"outlinewidth\":0,\"ticks\":\"\"},\"colorscale\":[[0.0,\"#0d0887\"],[0.1111111111111111,\"#46039f\"],[0.2222222222222222,\"#7201a8\"],[0.3333333333333333,\"#9c179e\"],[0.4444444444444444,\"#bd3786\"],[0.5555555555555556,\"#d8576b\"],[0.6666666666666666,\"#ed7953\"],[0.7777777777777778,\"#fb9f3a\"],[0.8888888888888888,\"#fdca26\"],[1.0,\"#f0f921\"]]}],\"surface\":[{\"type\":\"surface\",\"colorbar\":{\"outlinewidth\":0,\"ticks\":\"\"},\"colorscale\":[[0.0,\"#0d0887\"],[0.1111111111111111,\"#46039f\"],[0.2222222222222222,\"#7201a8\"],[0.3333333333333333,\"#9c179e\"],[0.4444444444444444,\"#bd3786\"],[0.5555555555555556,\"#d8576b\"],[0.6666666666666666,\"#ed7953\"],[0.7777777777777778,\"#fb9f3a\"],[0.8888888888888888,\"#fdca26\"],[1.0,\"#f0f921\"]]}],\"mesh3d\":[{\"type\":\"mesh3d\",\"colorbar\":{\"outlinewidth\":0,\"ticks\":\"\"}}],\"scatter\":[{\"fillpattern\":{\"fillmode\":\"overlay\",\"size\":10,\"solidity\":0.2},\"type\":\"scatter\"}],\"parcoords\":[{\"type\":\"parcoords\",\"line\":{\"colorbar\":{\"outlinewidth\":0,\"ticks\":\"\"}}}],\"scatterpolargl\":[{\"type\":\"scatterpolargl\",\"marker\":{\"colorbar\":{\"outlinewidth\":0,\"ticks\":\"\"}}}],\"bar\":[{\"error_x\":{\"color\":\"#2a3f5f\"},\"error_y\":{\"color\":\"#2a3f5f\"},\"marker\":{\"line\":{\"color\":\"#E5ECF6\",\"width\":0.5},\"pattern\":{\"fillmode\":\"overlay\",\"size\":10,\"solidity\":0.2}},\"type\":\"bar\"}],\"scattergeo\":[{\"type\":\"scattergeo\",\"marker\":{\"colorbar\":{\"outlinewidth\":0,\"ticks\":\"\"}}}],\"scatterpolar\":[{\"type\":\"scatterpolar\",\"marker\":{\"colorbar\":{\"outlinewidth\":0,\"ticks\":\"\"}}}],\"histogram\":[{\"marker\":{\"pattern\":{\"fillmode\":\"overlay\",\"size\":10,\"solidity\":0.2}},\"type\":\"histogram\"}],\"scattergl\":[{\"type\":\"scattergl\",\"marker\":{\"colorbar\":{\"outlinewidth\":0,\"ticks\":\"\"}}}],\"scatter3d\":[{\"type\":\"scatter3d\",\"line\":{\"colorbar\":{\"outlinewidth\":0,\"ticks\":\"\"}},\"marker\":{\"colorbar\":{\"outlinewidth\":0,\"ticks\":\"\"}}}],\"scattermapbox\":[{\"type\":\"scattermapbox\",\"marker\":{\"colorbar\":{\"outlinewidth\":0,\"ticks\":\"\"}}}],\"scatterternary\":[{\"type\":\"scatterternary\",\"marker\":{\"colorbar\":{\"outlinewidth\":0,\"ticks\":\"\"}}}],\"scattercarpet\":[{\"type\":\"scattercarpet\",\"marker\":{\"colorbar\":{\"outlinewidth\":0,\"ticks\":\"\"}}}],\"carpet\":[{\"aaxis\":{\"endlinecolor\":\"#2a3f5f\",\"gridcolor\":\"white\",\"linecolor\":\"white\",\"minorgridcolor\":\"white\",\"startlinecolor\":\"#2a3f5f\"},\"baxis\":{\"endlinecolor\":\"#2a3f5f\",\"gridcolor\":\"white\",\"linecolor\":\"white\",\"minorgridcolor\":\"white\",\"startlinecolor\":\"#2a3f5f\"},\"type\":\"carpet\"}],\"table\":[{\"cells\":{\"fill\":{\"color\":\"#EBF0F8\"},\"line\":{\"color\":\"white\"}},\"header\":{\"fill\":{\"color\":\"#C8D4E3\"},\"line\":{\"color\":\"white\"}},\"type\":\"table\"}],\"barpolar\":[{\"marker\":{\"line\":{\"color\":\"#E5ECF6\",\"width\":0.5},\"pattern\":{\"fillmode\":\"overlay\",\"size\":10,\"solidity\":0.2}},\"type\":\"barpolar\"}],\"pie\":[{\"automargin\":true,\"type\":\"pie\"}]},\"layout\":{\"autotypenumbers\":\"strict\",\"colorway\":[\"#636efa\",\"#EF553B\",\"#00cc96\",\"#ab63fa\",\"#FFA15A\",\"#19d3f3\",\"#FF6692\",\"#B6E880\",\"#FF97FF\",\"#FECB52\"],\"font\":{\"color\":\"#2a3f5f\"},\"hovermode\":\"closest\",\"hoverlabel\":{\"align\":\"left\"},\"paper_bgcolor\":\"white\",\"plot_bgcolor\":\"#E5ECF6\",\"polar\":{\"bgcolor\":\"#E5ECF6\",\"angularaxis\":{\"gridcolor\":\"white\",\"linecolor\":\"white\",\"ticks\":\"\"},\"radialaxis\":{\"gridcolor\":\"white\",\"linecolor\":\"white\",\"ticks\":\"\"}},\"ternary\":{\"bgcolor\":\"#E5ECF6\",\"aaxis\":{\"gridcolor\":\"white\",\"linecolor\":\"white\",\"ticks\":\"\"},\"baxis\":{\"gridcolor\":\"white\",\"linecolor\":\"white\",\"ticks\":\"\"},\"caxis\":{\"gridcolor\":\"white\",\"linecolor\":\"white\",\"ticks\":\"\"}},\"coloraxis\":{\"colorbar\":{\"outlinewidth\":0,\"ticks\":\"\"}},\"colorscale\":{\"sequential\":[[0.0,\"#0d0887\"],[0.1111111111111111,\"#46039f\"],[0.2222222222222222,\"#7201a8\"],[0.3333333333333333,\"#9c179e\"],[0.4444444444444444,\"#bd3786\"],[0.5555555555555556,\"#d8576b\"],[0.6666666666666666,\"#ed7953\"],[0.7777777777777778,\"#fb9f3a\"],[0.8888888888888888,\"#fdca26\"],[1.0,\"#f0f921\"]],\"sequentialminus\":[[0.0,\"#0d0887\"],[0.1111111111111111,\"#46039f\"],[0.2222222222222222,\"#7201a8\"],[0.3333333333333333,\"#9c179e\"],[0.4444444444444444,\"#bd3786\"],[0.5555555555555556,\"#d8576b\"],[0.6666666666666666,\"#ed7953\"],[0.7777777777777778,\"#fb9f3a\"],[0.8888888888888888,\"#fdca26\"],[1.0,\"#f0f921\"]],\"diverging\":[[0,\"#8e0152\"],[0.1,\"#c51b7d\"],[0.2,\"#de77ae\"],[0.3,\"#f1b6da\"],[0.4,\"#fde0ef\"],[0.5,\"#f7f7f7\"],[0.6,\"#e6f5d0\"],[0.7,\"#b8e186\"],[0.8,\"#7fbc41\"],[0.9,\"#4d9221\"],[1,\"#276419\"]]},\"xaxis\":{\"gridcolor\":\"white\",\"linecolor\":\"white\",\"ticks\":\"\",\"title\":{\"standoff\":15},\"zerolinecolor\":\"white\",\"automargin\":true,\"zerolinewidth\":2},\"yaxis\":{\"gridcolor\":\"white\",\"linecolor\":\"white\",\"ticks\":\"\",\"title\":{\"standoff\":15},\"zerolinecolor\":\"white\",\"automargin\":true,\"zerolinewidth\":2},\"scene\":{\"xaxis\":{\"backgroundcolor\":\"#E5ECF6\",\"gridcolor\":\"white\",\"linecolor\":\"white\",\"showbackground\":true,\"ticks\":\"\",\"zerolinecolor\":\"white\",\"gridwidth\":2},\"yaxis\":{\"backgroundcolor\":\"#E5ECF6\",\"gridcolor\":\"white\",\"linecolor\":\"white\",\"showbackground\":true,\"ticks\":\"\",\"zerolinecolor\":\"white\",\"gridwidth\":2},\"zaxis\":{\"backgroundcolor\":\"#E5ECF6\",\"gridcolor\":\"white\",\"linecolor\":\"white\",\"showbackground\":true,\"ticks\":\"\",\"zerolinecolor\":\"white\",\"gridwidth\":2}},\"shapedefaults\":{\"line\":{\"color\":\"#2a3f5f\"}},\"annotationdefaults\":{\"arrowcolor\":\"#2a3f5f\",\"arrowhead\":0,\"arrowwidth\":1},\"geo\":{\"bgcolor\":\"white\",\"landcolor\":\"#E5ECF6\",\"subunitcolor\":\"white\",\"showland\":true,\"showlakes\":true,\"lakecolor\":\"white\"},\"title\":{\"x\":0.05},\"mapbox\":{\"style\":\"light\"}}},\"scene\":{\"domain\":{\"x\":[0.0,1.0],\"y\":[0.0,1.0]},\"xaxis\":{\"title\":{\"text\":\"x\"}},\"yaxis\":{\"title\":{\"text\":\"y\"}},\"zaxis\":{\"title\":{\"text\":\"z\"}}},\"legend\":{\"title\":{\"text\":\"category\"},\"tracegroupgap\":0},\"title\":{\"text\":\"3D Scatter Plot\"}},                        {\"responsive\": true}                    ).then(function(){\n",
              "                            \n",
              "var gd = document.getElementById('a745f1f6-2ce0-4488-99ef-babff98ae76f');\n",
              "var x = new MutationObserver(function (mutations, observer) {{\n",
              "        var display = window.getComputedStyle(gd).display;\n",
              "        if (!display || display === 'none') {{\n",
              "            console.log([gd, 'removed!']);\n",
              "            Plotly.purge(gd);\n",
              "            observer.disconnect();\n",
              "        }}\n",
              "}});\n",
              "\n",
              "// Listen for the removal of the full notebook cells\n",
              "var notebookContainer = gd.closest('#notebook-container');\n",
              "if (notebookContainer) {{\n",
              "    x.observe(notebookContainer, {childList: true});\n",
              "}}\n",
              "\n",
              "// Listen for the clearing of the current output cell\n",
              "var outputEl = gd.closest('.output');\n",
              "if (outputEl) {{\n",
              "    x.observe(outputEl, {childList: true});\n",
              "}}\n",
              "\n",
              "                        })                };                            </script>        </div>\n",
              "</body>\n",
              "</html>"
            ]
          },
          "metadata": {}
        }
      ]
    }
  ]
}